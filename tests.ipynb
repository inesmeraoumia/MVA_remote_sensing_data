{
 "cells": [
  {
   "cell_type": "markdown",
   "metadata": {},
   "source": [
    "# Subpixellic Methods for Sidelobes Suppression and Strong Targets: TESTS"
   ]
  },
  {
   "cell_type": "code",
   "execution_count": null,
   "metadata": {},
   "outputs": [],
   "source": [
    "#Imports\n",
    "import numpy as np\n",
    "import matplotlib.pyplot as plt\n",
    "import scipy as sc\n",
    "from PIL import Image, ImageSequence\n",
    "import rasterio\n",
    "import mvalab\n",
    "from numpy.fft import fft, ifft, fft2, ifft2, fftshift, ifftshift\n",
    "import nfft\n",
    "import plotly.express as px\n",
    "from irregular_translations import *\n",
    "from regularization import *"
   ]
  },
  {
   "cell_type": "markdown",
   "metadata": {},
   "source": [
    "### Opening the data"
   ]
  },
  {
   "cell_type": "code",
   "execution_count": null,
   "metadata": {},
   "outputs": [],
   "source": [
    "#multichannel TIF\n",
    "#Channel 0 = partie reelle\n",
    "#Channel 1 = partie imaginaire\n",
    "u = Image.open('u0.tif')\n",
    "im_li = []\n",
    "\n",
    "for i, page in enumerate(ImageSequence.Iterator(u)):\n",
    "    im_li.append(np.array(page))\n",
    "im = im_li[0] + 1j * im_li[1]\n",
    "mvalab.visusar(im, 3)"
   ]
  },
  {
   "cell_type": "code",
   "execution_count": null,
   "metadata": {},
   "outputs": [],
   "source": [
    "#Working on a smaller image\n",
    "test_im = im[580:780, 565:765] \n",
    "print(test_im.shape)\n",
    "mvalab.visusar(test_im, 3)"
   ]
  },
  {
   "cell_type": "code",
   "execution_count": null,
   "metadata": {},
   "outputs": [],
   "source": [
    "#Zoom to see a target and the sinusc signature\n",
    "test_im_zoom = im[650:710, 635:695]\n",
    "#mvalab.visusar(test_im[20:55, 30:,], 3)\n",
    "mvalab.visusar(test_im_zoom, 3)"
   ]
  },
  {
   "cell_type": "markdown",
   "metadata": {},
   "source": [
    "#### Loading the resampled image v"
   ]
  },
  {
   "cell_type": "code",
   "execution_count": null,
   "metadata": {},
   "outputs": [],
   "source": [
    "v = Image.open('v0.tif')\n",
    "im_li = []\n",
    "for i, page in enumerate(ImageSequence.Iterator(v)):\n",
    "    im_li.append(np.array(page))\n",
    "im_resampled = im_li[0] + 1j * im_li[1]\n",
    "\n",
    "#Working on the same smaller image\n",
    "v = im_resampled[580:780, 565:765] \n",
    "mvalab.visusar(v, 3)"
   ]
  },
  {
   "cell_type": "markdown",
   "metadata": {},
   "source": [
    "## Finding the translation maps"
   ]
  },
  {
   "cell_type": "markdown",
   "metadata": {},
   "source": [
    "### Test for vertical translations"
   ]
  },
  {
   "cell_type": "code",
   "execution_count": null,
   "metadata": {},
   "outputs": [],
   "source": [
    "#Considering we only have one target for this example\n",
    "#Get the index of the maximum amplitude ie the target\n",
    "x_theo, y_theo = np.unravel_index(np.argmax(np.abs(test_im_zoom), axis=None), test_im_zoom.shape)\n",
    "\n",
    "im_t, t_li = translate(test_im_zoom, 20, 1)\n",
    "for i in range(len(im_t)):\n",
    "    plt.figure()\n",
    "    plt.imshow(im_t[i][35:55, 30:,], cmap='gray')\n",
    "    plt.title('Translation  = %f' %i)"
   ]
  },
  {
   "cell_type": "markdown",
   "metadata": {},
   "source": [
    "### TV minimization"
   ]
  },
  {
   "cell_type": "code",
   "execution_count": null,
   "metadata": {},
   "outputs": [],
   "source": [
    "#Evolution of the TV for a localized target\n",
    "displacement, history_x, history_y = find_displacement(test_im_zoom, 20, 5, tv_history=(x_theo, y_theo))\n",
    "plt.figure()\n",
    "plt.plot(history_x, c='green')\n",
    "plt.title('Evolution of TV wrt translation X (localization=target)')\n",
    "plt.xlabel('Translation over X (horizontal)')\n",
    "plt.ylabel('TV')\n",
    "\n",
    "\n",
    "plt.figure()\n",
    "plt.plot(history_y, c='red')\n",
    "plt.title('Evolution of TV wrt translation Y (localization=target)')\n",
    "plt.xlabel('Translation over Y (vertical)')\n",
    "plt.ylabel('TV')\n"
   ]
  },
  {
   "cell_type": "code",
   "execution_count": null,
   "metadata": {},
   "outputs": [],
   "source": [
    "#Evolution of the TV for a pixel in a speckle area\n",
    "displacementS, history_xS, history_yS = find_displacement(test_im_zoom, 20, 5, tv_history=(30, 30))\n",
    "plt.figure()\n",
    "plt.plot(history_x, c='cyan')\n",
    "plt.title('Evolution of TV wrt translation X (localization=speckle)')\n",
    "plt.xlabel('Translation over X (horizontal)')\n",
    "plt.ylabel('TV')\n",
    "\n",
    "plt.figure()\n",
    "plt.plot(history_y, c='magenta')\n",
    "plt.title('Evolution of TV wrt translation Y (localization=speckle)')\n",
    "plt.xlabel('Translation over Y (vertical)')\n",
    "plt.ylabel('TV')\n"
   ]
  },
  {
   "cell_type": "code",
   "execution_count": null,
   "metadata": {},
   "outputs": [],
   "source": [
    "#Comparison of the scales for a target and a speckle pixel\n",
    "legend = ['target', 'speckle']\n",
    "plt.figure()\n",
    "plt.plot(history_y, c='red')\n",
    "plt.plot(history_yS, c='magenta')\n",
    "plt.title('Evolution of TV wrt translation Y')\n",
    "plt.xlabel('Translation over Y (vertical)')\n",
    "plt.ylabel('TV')\n"
   ]
  },
  {
   "cell_type": "markdown",
   "metadata": {},
   "source": [
    "## Regularization of the Translation maps using Chambolle-Pock algorithm"
   ]
  },
  {
   "cell_type": "markdown",
   "metadata": {},
   "source": [
    "### TV amplitude based Weights"
   ]
  },
  {
   "cell_type": "code",
   "execution_count": null,
   "metadata": {},
   "outputs": [],
   "source": [
    "displacement, Wx, Wy = find_displacement(test_im, 20, 5, ampli_weights=True)\n",
    "Tx, Ty = displacement[:,:,0], displacement[:,:,1]"
   ]
  },
  {
   "cell_type": "code",
   "execution_count": null,
   "metadata": {
    "scrolled": false
   },
   "outputs": [],
   "source": [
    "#Regularization for Tx\n",
    "Lambda = 0.1\n",
    "Tx_reg = chambolle_pock(Wx*Tx, Wx, Lambda)\n",
    "\n",
    "#Visualization\n",
    "#Original image\n",
    "mvalab.visusar(test_im, 3)\n",
    "\n",
    "#Original translation map\n",
    "fig = px.imshow(Tx, color_continuous_scale=px.colors.sequential.Cividis_r)\n",
    "fig.update_layout(title=\"Original translation map Tx\")\n",
    "fig.show()\n",
    "\n",
    "#Weights\n",
    "fig = px.imshow(Wx, color_continuous_scale=px.colors.sequential.algae)\n",
    "fig.update_layout(title=\"Tx Weights based on TV amplitude\")\n",
    "fig.show()\n",
    "\n",
    "#Regularized translation map\n",
    "fig = px.imshow(Tx_reg, color_continuous_scale=px.colors.sequential.Cividis_r)\n",
    "fig.update_layout(title=\"Regularized translation map Tx_reg\")\n",
    "fig.show()\n"
   ]
  },
  {
   "cell_type": "code",
   "execution_count": null,
   "metadata": {
    "scrolled": false
   },
   "outputs": [],
   "source": [
    "#Regularization for Ty\n",
    "Lambda = 0.1\n",
    "Ty_reg = chambolle_pock(Wy*Ty, Wy, Lambda)\n",
    "\n",
    "#Visualization\n",
    "#Original image\n",
    "mvalab.visusar(test_im, 3)\n",
    "\n",
    "#Original translation map\n",
    "fig = px.imshow(Ty, color_continuous_scale=px.colors.sequential.Cividis_r)\n",
    "fig.update_layout(title=\"Original translation map Ty\")\n",
    "fig.show()\n",
    "\n",
    "#Weights\n",
    "fig = px.imshow(Wy, color_continuous_scale=px.colors.sequential.algae)\n",
    "fig.update_layout(title=\"Ty Weights based on TV amplitude\")\n",
    "fig.show()\n",
    "\n",
    "#Regularized translation map\n",
    "fig = px.imshow(Ty_reg, color_continuous_scale=px.colors.sequential.Cividis_r)\n",
    "fig.update_layout(title=\"Regularized translation map Ty_reg\")\n",
    "fig.show()\n"
   ]
  },
  {
   "cell_type": "code",
   "execution_count": null,
   "metadata": {},
   "outputs": [],
   "source": [
    "#Quick study of the influence of the regularization parameter Lambda\n",
    "#Test on Tx\n",
    "Lambda_li = np.linspace(0, 10, num=50)\n",
    "for l in Lambda_li:\n",
    "    print('Regularization parameter: lambda=', l)\n",
    "    Tx_reg = chambolle_pock(Wx*Tx, Wx, l)\n",
    "    fig = px.imshow(Tx_reg, color_continuous_scale=px.colors.sequential.Cividis_r)\n",
    "    fig.update_layout(title=\"Regularized translation map Tx_reg\")\n",
    "    fig.show()"
   ]
  },
  {
   "cell_type": "markdown",
   "metadata": {},
   "source": [
    "### R Weights"
   ]
  },
  {
   "cell_type": "code",
   "execution_count": null,
   "metadata": {},
   "outputs": [],
   "source": [
    "Rx, Ry = compute_R(v)"
   ]
  },
  {
   "cell_type": "markdown",
   "metadata": {},
   "source": [
    "#### Quick study of the importance of the parameter omega"
   ]
  },
  {
   "cell_type": "code",
   "execution_count": null,
   "metadata": {
    "scrolled": false
   },
   "outputs": [],
   "source": [
    "omega_li = np.arange(0, 100, 5)\n",
    "for omega in omega_li:\n",
    "    print('OMEGA = ', omega)\n",
    "    Rx, Ry = compute_R(v, omega=omega)\n",
    "    fig = px.imshow(Rx, color_continuous_scale=px.colors.sequential.Burg_r)\n",
    "    fig.update_layout(title=\"Rx\")\n",
    "    fig.show()"
   ]
  },
  {
   "cell_type": "markdown",
   "metadata": {},
   "source": [
    "#### Having a look at the distribution of Rx and Ry"
   ]
  },
  {
   "cell_type": "code",
   "execution_count": null,
   "metadata": {},
   "outputs": [],
   "source": [
    "plt.figure()\n",
    "plt.hist(Rx.reshape(-1), bins=100, density=True)\n",
    "plt.title('Histogram of Rx : Rayleigh distribution')\n",
    "\n",
    "plt.figure()\n",
    "cumhist_x, bins_x, _ = plt.hist(Rx.reshape(-1), bins=100, density=True, cumulative=True)\n",
    "plt.title('Cumulative histogram of Rx')\n",
    "\n",
    "\n",
    "plt.figure()\n",
    "plt.hist(Ry.reshape(-1), bins=100, density=True)\n",
    "plt.title('Histogram of Ry : Rayleigh distribution')\n",
    "\n",
    "plt.figure()\n",
    "cumhist_y, bins_y, _ = plt.hist(Ry.reshape(-1), bins=100, density=True, cumulative=True)\n",
    "plt.title('Cumulative histogram of Ry')"
   ]
  },
  {
   "cell_type": "markdown",
   "metadata": {},
   "source": [
    "#### Thresholding"
   ]
  },
  {
   "cell_type": "code",
   "execution_count": null,
   "metadata": {},
   "outputs": [],
   "source": [
    "#Thresholding for Rx and Ry\n",
    "#Keep only the point above in both cases\n",
    "target_x = thresholding5(Rx, cumhist_x, bins_x)\n",
    "target_y = thresholding5(Ry, cumhist_y, bins_y)\n",
    "target = target_x*target_y\n",
    "R = Rx + Ry\n",
    "W = get_R_weights(R, target)"
   ]
  },
  {
   "cell_type": "code",
   "execution_count": null,
   "metadata": {
    "scrolled": false
   },
   "outputs": [],
   "source": [
    "#Regularization for Tx\n",
    "Lambda = 0.1\n",
    "Tx_reg = chambolle_pock(W*Tx, W, Lambda)\n",
    "\n",
    "#Visualization\n",
    "#Original image\n",
    "mvalab.visusar(test_im, 3)\n",
    "\n",
    "#Original translation map\n",
    "fig = px.imshow(Tx, color_continuous_scale=px.colors.sequential.Cividis_r)\n",
    "fig.update_layout(title=\"Original translation map Tx\")\n",
    "fig.show()\n",
    "\n",
    "#Weights\n",
    "fig = px.imshow(W, color_continuous_scale=px.colors.sequential.algae)\n",
    "fig.update_layout(title=\"Tx Weights based on R\")\n",
    "fig.show()\n",
    "\n",
    "#Regularized translation map\n",
    "fig = px.imshow(Tx_reg, color_continuous_scale=px.colors.sequential.Cividis_r)\n",
    "fig.update_layout(title=\"Regularized translation map Tx_reg\")\n",
    "fig.show()\n"
   ]
  },
  {
   "cell_type": "code",
   "execution_count": null,
   "metadata": {
    "scrolled": false
   },
   "outputs": [],
   "source": [
    "#Regularization for Ty\n",
    "Lambda = 0.1\n",
    "Ty_reg = chambolle_pock(W*Ty, W, Lambda)\n",
    "\n",
    "#Visualization\n",
    "#Original image\n",
    "mvalab.visusar(test_im, 3)\n",
    "\n",
    "#Original translation map\n",
    "fig = px.imshow(Ty, color_continuous_scale=px.colors.sequential.Cividis_r)\n",
    "fig.update_layout(title=\"Original translation map Ty\")\n",
    "fig.show()\n",
    "\n",
    "#Weights\n",
    "fig = px.imshow(W, color_continuous_scale=px.colors.sequential.algae)\n",
    "fig.update_layout(title=\"Ty Weights based on R\")\n",
    "fig.show()\n",
    "\n",
    "#Regularized translation map\n",
    "fig = px.imshow(Ty_reg, color_continuous_scale=px.colors.sequential.Cividis_r)\n",
    "fig.update_layout(title=\"Regularized translation map Ty_reg\")\n",
    "fig.show()\n"
   ]
  },
  {
   "cell_type": "code",
   "execution_count": null,
   "metadata": {},
   "outputs": [],
   "source": []
  },
  {
   "cell_type": "code",
   "execution_count": null,
   "metadata": {},
   "outputs": [],
   "source": []
  },
  {
   "cell_type": "code",
   "execution_count": null,
   "metadata": {},
   "outputs": [],
   "source": []
  }
 ],
 "metadata": {
  "kernelspec": {
   "display_name": "Python 3",
   "language": "python",
   "name": "python3"
  },
  "language_info": {
   "codemirror_mode": {
    "name": "ipython",
    "version": 3
   },
   "file_extension": ".py",
   "mimetype": "text/x-python",
   "name": "python",
   "nbconvert_exporter": "python",
   "pygments_lexer": "ipython3",
   "version": "3.7.4"
  }
 },
 "nbformat": 4,
 "nbformat_minor": 2
}
